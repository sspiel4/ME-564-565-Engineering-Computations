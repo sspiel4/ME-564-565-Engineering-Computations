{
 "cells": [
  {
   "cell_type": "code",
   "execution_count": 2,
   "metadata": {
    "collapsed": true
   },
   "outputs": [],
   "source": [
    "import numpy as np\n",
    "import matplotlib.pyplot as plt"
   ]
  },
  {
   "cell_type": "markdown",
   "metadata": {},
   "source": [
    "##### Script to evaluate\n",
    "$$\\int{\\frac{f(z)}{z}}$$"
   ]
  },
  {
   "cell_type": "code",
   "execution_count": 3,
   "metadata": {},
   "outputs": [
    {
     "name": "stdout",
     "output_type": "stream",
     "text": [
      "(-6.362911499774304e-18+6.283185307179473j)\n"
     ]
    }
   ],
   "source": [
    "#numerical steps\n",
    "N = 1000\n",
    "#integral value\n",
    "I = 0\n",
    "#size of each step\n",
    "dTheta = 2*np.pi/N\n",
    "#loop counter\n",
    "k=0\n",
    "\n",
    "for k in range(0,N):\n",
    "    \n",
    "    #degree on circle\n",
    "    Theta = dTheta*k\n",
    "    #path\n",
    "    z = np.e**(1j*Theta)\n",
    "    #path step\n",
    "    dz = 1j*z*dTheta\n",
    "    #integral\n",
    "    I = I + dz*(1/z)\n",
    "    \n",
    "    k=k+1\n",
    "    \n",
    "print(I)"
   ]
  },
  {
   "cell_type": "markdown",
   "metadata": {},
   "source": [
    "##### (a) Verify Cauchy integral formula for \n",
    "$$f(z) = e^z$$"
   ]
  },
  {
   "cell_type": "code",
   "execution_count": 4,
   "metadata": {},
   "outputs": [
    {
     "name": "stdout",
     "output_type": "stream",
     "text": [
      "(8.25891004890833e-16+6.28318530717959j)\n"
     ]
    }
   ],
   "source": [
    "#numerical steps\n",
    "N = 1000\n",
    "#integral value\n",
    "I = 0\n",
    "#size of each step\n",
    "dTheta = 2*np.pi/N\n",
    "#loop counter\n",
    "k=0\n",
    "\n",
    "for k in range(0,N):\n",
    "    \n",
    "    #degree on circle\n",
    "    Theta = dTheta*k\n",
    "    #path\n",
    "    z = np.e**(1j*Theta)\n",
    "    #path step\n",
    "    dz = 1j*z*dTheta\n",
    "    #integral\n",
    "    I = I + dz*((np.e**z)/z)\n",
    "    \n",
    "    k=k+1\n",
    "    \n",
    "print(I)"
   ]
  },
  {
   "cell_type": "markdown",
   "metadata": {},
   "source": [
    "##### (b) Verify Cauchy integral formula for \n",
    "$$f(z) = cos^2(z)$$"
   ]
  },
  {
   "cell_type": "code",
   "execution_count": 5,
   "metadata": {},
   "outputs": [
    {
     "name": "stdout",
     "output_type": "stream",
     "text": [
      "(2.03999415017e-16+6.28318530718j)\n"
     ]
    }
   ],
   "source": [
    "#numerical steps\n",
    "N = 1000\n",
    "#integral value\n",
    "I = 0\n",
    "#size of each step\n",
    "dTheta = 2*np.pi/N\n",
    "#loop counter\n",
    "k=0\n",
    "\n",
    "for k in range(0,N):\n",
    "    \n",
    "    #degree on circle\n",
    "    Theta = dTheta*k\n",
    "    #path\n",
    "    z = np.e**(1j*Theta)\n",
    "    #path step\n",
    "    dz = 1j*z*dTheta\n",
    "    #integral\n",
    "    I = I + dz*((np.cos(z)**2)/z)\n",
    "    \n",
    "    k=k+1\n",
    "    \n",
    "print(I)"
   ]
  },
  {
   "cell_type": "markdown",
   "metadata": {},
   "source": [
    "##### (c) Shift curve so it is centered around -2 + 2i, but R = 1 still. Does the intergral for part (a) change?"
   ]
  },
  {
   "cell_type": "code",
   "execution_count": 6,
   "metadata": {},
   "outputs": [
    {
     "name": "stdout",
     "output_type": "stream",
     "text": [
      "(4.0028744208164824e-16+9.6710833785707e-16j)\n"
     ]
    }
   ],
   "source": [
    "#numerical steps\n",
    "N = 1000\n",
    "#integral value\n",
    "I = 0\n",
    "#size of each step\n",
    "dTheta = 2*np.pi/N\n",
    "#loop counter\n",
    "k=0\n",
    "\n",
    "#move pole\n",
    "a= -2 + 2j\n",
    "\n",
    "for k in range(0,N):\n",
    "    \n",
    "    #degree on circle\n",
    "    Theta = dTheta*k\n",
    "    #path\n",
    "    z = np.e**(1j*Theta)\n",
    "    #path step\n",
    "    dz = 1j*z*dTheta\n",
    "    #integral\n",
    "    I = I + dz*((np.e**z)/(z-a))\n",
    "    \n",
    "    k=k+1\n",
    "    \n",
    "print(I)"
   ]
  },
  {
   "cell_type": "markdown",
   "metadata": {},
   "source": [
    "##### (d) Yes, because when we integrate around a pole we pick up a 2pi term."
   ]
  },
  {
   "cell_type": "code",
   "execution_count": null,
   "metadata": {
    "collapsed": true
   },
   "outputs": [],
   "source": []
  }
 ],
 "metadata": {
  "kernelspec": {
   "display_name": "Python 3",
   "language": "python",
   "name": "python3"
  },
  "language_info": {
   "codemirror_mode": {
    "name": "ipython",
    "version": 3
   },
   "file_extension": ".py",
   "mimetype": "text/x-python",
   "name": "python",
   "nbconvert_exporter": "python",
   "pygments_lexer": "ipython3",
   "version": "3.6.1"
  }
 },
 "nbformat": 4,
 "nbformat_minor": 2
}

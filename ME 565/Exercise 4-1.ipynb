{
 "cells": [
  {
   "cell_type": "code",
   "execution_count": 2,
   "metadata": {},
   "outputs": [
    {
     "name": "stdout",
     "output_type": "stream",
     "text": [
      "Once deleted, variables cannot be recovered. Proceed (y/[n])? y\n"
     ]
    }
   ],
   "source": [
    "%reset"
   ]
  },
  {
   "cell_type": "code",
   "execution_count": 9,
   "metadata": {
    "collapsed": true
   },
   "outputs": [],
   "source": [
    "from scipy.linalg import dft\n",
    "import numpy as np\n",
    "import math\n",
    "\n",
    "import time\n",
    "import itertools as itertools\n",
    "\n",
    "import matplotlib.pyplot as plt\n",
    "from matplotlib.backends.backend_pdf import PdfPages\n",
    "import matplotlib.cm as cm"
   ]
  },
  {
   "cell_type": "markdown",
   "metadata": {},
   "source": [
    "# Exercise 4-1"
   ]
  },
  {
   "cell_type": "markdown",
   "metadata": {},
   "source": [
    "### Compute the fast fourier transform"
   ]
  },
  {
   "cell_type": "code",
   "execution_count": 4,
   "metadata": {},
   "outputs": [],
   "source": [
    "iterations = 1000\n",
    "k_end = 16\n",
    "\n",
    "k = {}\n",
    "v = {}\n",
    "d = {}\n",
    "for i in range (2,k_end):\n",
    "    k[\"k\" + str(i)] = i\n",
    "    v[\"v\" + str(i)] = 2**i\n",
    "    tt = 0\n",
    "\n",
    "    for j in range (1,iterations):\n",
    "        random_vals = np.random.rand(v[\"v\" + str(i)])\n",
    "        \n",
    "        t = time.time()\n",
    "        np.fft.fft(random_vals)\n",
    "        t2 = time.time() - t\n",
    "        tt = tt + t2\n",
    "        \n",
    "    d[\"d\" + str(i)] = tt/iterations"
   ]
  },
  {
   "cell_type": "code",
   "execution_count": 5,
   "metadata": {
    "collapsed": true
   },
   "outputs": [],
   "source": [
    "#convert dictionaries to lists to plot\n",
    "index_fft = list(k.values())\n",
    "times_fft = list(d.values())"
   ]
  },
  {
   "cell_type": "markdown",
   "metadata": {},
   "source": [
    "### Compute the fourier transform"
   ]
  },
  {
   "cell_type": "code",
   "execution_count": 6,
   "metadata": {},
   "outputs": [],
   "source": [
    "iterations = 100\n",
    "k_end = 12\n",
    "\n",
    "k = {}\n",
    "v = {}\n",
    "d = {}\n",
    "for i in range (2,k_end):\n",
    "    k[\"k\" + str(i)] = i\n",
    "    v[\"v\" + str(i)] = 2**i\n",
    "    tt = 0\n",
    "\n",
    "    for j in range (1,iterations):\n",
    "        random_vals = np.random.rand(v[\"v\" + str(i)])\n",
    "        \n",
    "        t = time.time()\n",
    "        m= dft(len(random_vals))\n",
    "        m.dot(random_vals)\n",
    "        t2 = time.time() - t\n",
    "        tt = tt + t2\n",
    "        \n",
    "    d[\"d\" + str(i)] = tt/iterations"
   ]
  },
  {
   "cell_type": "code",
   "execution_count": 7,
   "metadata": {
    "collapsed": true
   },
   "outputs": [],
   "source": [
    "#convert dictionaries to lists to plot\n",
    "index_dft = list(k.values())\n",
    "times_dft = list(d.values())"
   ]
  },
  {
   "cell_type": "code",
   "execution_count": 8,
   "metadata": {},
   "outputs": [
    {
     "data": {
      "image/png": "[encoded data removed]",
      "text/plain": [
       "<matplotlib.figure.Figure at 0x1ef030c5898>"
      ]
     },
     "metadata": {},
     "output_type": "display_data"
    }
   ],
   "source": [
    "#create figure object\n",
    "fig = plt.figure()\n",
    "\n",
    "#plot each set of y values with respect to time\n",
    "ax = fig.add_axes([0,0,1,1])\n",
    "\n",
    "ax.plot(index_fft,times_fft, label = 'fft 2^k')\n",
    "ax.plot(index_dft,times_dft, label = 'dft 2^k', color = \"red\")\n",
    "\n",
    "#title axis\n",
    "ax.set_xlabel('k')\n",
    "ax.set_ylabel('Computational Time (ms)')\n",
    "ax.set_title('Excercise 4-1: FFT Computational Time of Random Valued Vector')\n",
    "ax.set_yscale('log', basey = np.e)\n",
    "\n",
    "#include legend\n",
    "plt.legend(bbox_to_anchor=(1.05, 1), loc=2, borderaxespad=0.)\n",
    "\n",
    "plt.show()"
   ]
  },
  {
   "cell_type": "code",
   "execution_count": null,
   "metadata": {},
   "outputs": [],
   "source": []
  },
  {
   "cell_type": "code",
   "execution_count": null,
   "metadata": {
    "collapsed": true
   },
   "outputs": [],
   "source": []
  }
 ],
 "metadata": {
  "kernelspec": {
   "display_name": "Python 3",
   "language": "python",
   "name": "python3"
  },
  "language_info": {
   "codemirror_mode": {
    "name": "ipython",
    "version": 3
   },
   "file_extension": ".py",
   "mimetype": "text/x-python",
   "name": "python",
   "nbconvert_exporter": "python",
   "pygments_lexer": "ipython3",
   "version": "3.6.1"
  }
 },
 "nbformat": 4,
 "nbformat_minor": 2
}

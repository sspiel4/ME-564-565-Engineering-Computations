{
 "cells": [
  {
   "cell_type": "code",
   "execution_count": 1,
   "metadata": {},
   "outputs": [
    {
     "name": "stdout",
     "output_type": "stream",
     "text": [
      "Once deleted, variables cannot be recovered. Proceed (y/[n])? y\n"
     ]
    }
   ],
   "source": [
    "%reset"
   ]
  },
  {
   "cell_type": "code",
   "execution_count": 9,
   "metadata": {
    "collapsed": true
   },
   "outputs": [],
   "source": [
    "from scipy.linalg import dft\n",
    "\n",
    "import numpy as np\n",
    "import math\n",
    "\n",
    "import time\n",
    "import itertools as itertools\n",
    "\n",
    "import matplotlib.pyplot as plt\n",
    "from matplotlib.backends.backend_pdf import PdfPages\n",
    "import matplotlib.cm as cm"
   ]
  },
  {
   "cell_type": "code",
   "execution_count": null,
   "metadata": {},
   "outputs": [],
   "source": [
    "iterations = 100\n",
    "k_end = 16\n",
    "\n",
    "k = {}\n",
    "v = {}\n",
    "d = {}\n",
    "for i in range (2,k_end):\n",
    "    k[\"k\" + str(i)] = i\n",
    "    v[\"v\" + str(i)] = 2**i\n",
    "    tt = 0\n",
    "\n",
    "    for j in range (1,iterations):\n",
    "        random_vals = np.random.rand(v[\"v\" + str(i)])\n",
    "        \n",
    "        t = time.time()\n",
    "        m= dft(len(random_vals))\n",
    "        m.dot(random_vals)\n",
    "        t2 = time.time() - t\n",
    "        tt = tt + t2\n",
    "        \n",
    "    d[\"d\" + str(i)] = tt/iterations"
   ]
  },
  {
   "cell_type": "code",
   "execution_count": null,
   "metadata": {
    "collapsed": true
   },
   "outputs": [],
   "source": [
    "#convert dictionaries to lists to plot\n",
    "index = list(k.values())\n",
    "times = list(d.values())"
   ]
  },
  {
   "cell_type": "code",
   "execution_count": null,
   "metadata": {},
   "outputs": [],
   "source": [
    "#create figure object\n",
    "fig = plt.figure()\n",
    "\n",
    "#plot each set of y values with respect to time\n",
    "ax = fig.add_axes([0,0,1,1])\n",
    "\n",
    "ax.plot(index,times, label = 'fft 2^k')\n",
    "\n",
    "#title axis\n",
    "ax.set_xlabel('k')\n",
    "ax.set_ylabel('Computational Time (ms)')\n",
    "ax.set_title('Excercise 4-1: FFT Computational Time of Random Valued Vector')\n",
    "ax.set_yscale('log', basey = np.e)\n",
    "\n",
    "#include legend\n",
    "plt.legend(bbox_to_anchor=(1.05, 1), loc=2, borderaxespad=0.)\n",
    "\n",
    "plt.show()"
   ]
  },
  {
   "cell_type": "code",
   "execution_count": null,
   "metadata": {},
   "outputs": [],
   "source": []
  },
  {
   "cell_type": "code",
   "execution_count": null,
   "metadata": {
    "collapsed": true
   },
   "outputs": [],
   "source": []
  }
 ],
 "metadata": {
  "anaconda-cloud": {},
  "kernelspec": {
   "display_name": "Python 3",
   "language": "python",
   "name": "python3"
  },
  "language_info": {
   "codemirror_mode": {
    "name": "ipython",
    "version": 3
   },
   "file_extension": ".py",
   "mimetype": "text/x-python",
   "name": "python",
   "nbconvert_exporter": "python",
   "pygments_lexer": "ipython3",
   "version": "3.6.1"
  }
 },
 "nbformat": 4,
 "nbformat_minor": 2
}

{
 "cells": [
  {
   "cell_type": "code",
   "execution_count": 1,
   "metadata": {
    "collapsed": true
   },
   "outputs": [],
   "source": [
    "import numpy as np\n",
    "import math\n",
    "\n",
    "import matplotlib.pyplot as plt\n",
    "from matplotlib.backends.backend_pdf import PdfPages\n",
    "import matplotlib.cm as cm"
   ]
  },
  {
   "cell_type": "markdown",
   "metadata": {},
   "source": [
    "### Nested for loops suck in python! so slow. I need to find better options for coding this stuff. For now I haven't run the simulations long enough to get to equilibruim. It just takes too long to run. About 30min per BC. I will look into more efficient ways to code in python. Don't have time before this assigment is due. "
   ]
  },
  {
   "cell_type": "code",
   "execution_count": 2,
   "metadata": {
    "collapsed": true
   },
   "outputs": [],
   "source": [
    "plt.close('all')"
   ]
  },
  {
   "cell_type": "code",
   "execution_count": 3,
   "metadata": {},
   "outputs": [
    {
     "ename": "KeyboardInterrupt",
     "evalue": "",
     "output_type": "error",
     "traceback": [
      "\u001b[1;31m---------------------------------------------------------------------------\u001b[0m",
      "\u001b[1;31mKeyboardInterrupt\u001b[0m                         Traceback (most recent call last)",
      "\u001b[1;32m<ipython-input-3-5dfbb9d1cf9a>\u001b[0m in \u001b[0;36m<module>\u001b[1;34m()\u001b[0m\n\u001b[0;32m     38\u001b[0m     \u001b[1;32mfor\u001b[0m \u001b[0mi\u001b[0m \u001b[1;32min\u001b[0m \u001b[0mrange\u001b[0m \u001b[1;33m(\u001b[0m\u001b[0mc2\u001b[0m\u001b[1;33m,\u001b[0m\u001b[0mH\u001b[0m\u001b[1;33m)\u001b[0m\u001b[1;33m:\u001b[0m\u001b[1;33m\u001b[0m\u001b[0m\n\u001b[0;32m     39\u001b[0m         \u001b[1;32mfor\u001b[0m \u001b[0mj\u001b[0m \u001b[1;32min\u001b[0m \u001b[0mrange\u001b[0m \u001b[1;33m(\u001b[0m\u001b[0mc1\u001b[0m\u001b[1;33m,\u001b[0m\u001b[0mL\u001b[0m\u001b[1;33m)\u001b[0m\u001b[1;33m:\u001b[0m\u001b[1;33m\u001b[0m\u001b[0m\n\u001b[1;32m---> 40\u001b[1;33m             \u001b[1;32mif\u001b[0m\u001b[1;33m(\u001b[0m\u001b[1;33m(\u001b[0m\u001b[0mi\u001b[0m\u001b[1;33m+\u001b[0m\u001b[1;36m1\u001b[0m\u001b[1;33m-\u001b[0m\u001b[0mc2\u001b[0m\u001b[1;33m)\u001b[0m\u001b[1;33m**\u001b[0m\u001b[1;36m2\u001b[0m \u001b[1;33m+\u001b[0m\u001b[1;33m(\u001b[0m\u001b[0mj\u001b[0m\u001b[1;33m+\u001b[0m\u001b[1;36m1\u001b[0m\u001b[1;33m-\u001b[0m\u001b[0mc1\u001b[0m\u001b[1;33m)\u001b[0m\u001b[1;33m**\u001b[0m\u001b[1;36m2\u001b[0m \u001b[1;33m>=\u001b[0m \u001b[0mr2\u001b[0m\u001b[1;33m)\u001b[0m\u001b[1;33m:\u001b[0m    \u001b[1;31m# bottom right\u001b[0m\u001b[1;33m\u001b[0m\u001b[0m\n\u001b[0m\u001b[0;32m     41\u001b[0m                 \u001b[0mu\u001b[0m\u001b[1;33m[\u001b[0m\u001b[0mi\u001b[0m\u001b[1;33m,\u001b[0m\u001b[0mj\u001b[0m\u001b[1;33m]\u001b[0m \u001b[1;33m=\u001b[0m \u001b[1;36m2\u001b[0m\u001b[1;33m\u001b[0m\u001b[0m\n\u001b[0;32m     42\u001b[0m \u001b[1;33m\u001b[0m\u001b[0m\n",
      "\u001b[1;31mKeyboardInterrupt\u001b[0m: "
     ]
    }
   ],
   "source": [
    "L = 300\n",
    "H = 300\n",
    "u = np.zeros((L,H))\n",
    "Lu = np.zeros((L,H))\n",
    "\n",
    "c1 = math.floor(L/2)\n",
    "c2 = math.floor(H/2)\n",
    "r2 = math.floor((L/2)**2)\n",
    "\n",
    "\n",
    "dx= 1\n",
    "dy= 1\n",
    "dt=.1\n",
    "gamma = 1\n",
    "\n",
    "iteration = 0\n",
    "while (iteration<3000):\n",
    "    iteration = iteration + 1\n",
    "    \n",
    "    #Rectangular BCs\n",
    "    #u[0] = 1;  # top = 1\n",
    "    #u[L-1] = 1;  # bottom = 1\n",
    "    #u[:,0] = 1;  # left = 1\n",
    "    #u[:,H-1] = 1;  # right = 1 \n",
    "    \n",
    "    #Circular BCs\n",
    "    #must be careful because python is zero indexed\n",
    "    for i in range (0,c2):\n",
    "        for j in range (0,c1):\n",
    "            if((i-c2)**2 +(j-c1)**2 >= r2):    # top left\n",
    "                u[i,j] = 1\n",
    "                \n",
    "    for i in range (0,L):\n",
    "        for j in range (c1,L):\n",
    "            if((i-c2)**2 +(j+1-c1)**2 >= r2):    # top right\n",
    "                u[i,j] = 2\n",
    "                \n",
    "    for i in range (c2,H):\n",
    "        for j in range (c1,L):\n",
    "            if((i+1-c2)**2 +(j+1-c1)**2 >= r2):    # bottom right\n",
    "                u[i,j] = 2\n",
    "    \n",
    "    for i in range (c2,H):\n",
    "        for j in range (0,c1):\n",
    "            if((i+1-c2)**2 +(j-c1)**2 >= r2):    # bottom left\n",
    "                u[i,j] = 1\n",
    "\n",
    "    #OPTION 1, B:  Use a 5-point stencil\n",
    "    \n",
    "    for i in range (1,L-1):\n",
    "        \n",
    "        for j in range (1,H-1):\n",
    "            d2ud2x = (((u[i+1,j]-u[i,j])/dx) - ((u[i,j]-u[i-1,j])/dx))/dx\n",
    "            d2ud2y = (((u[i,j+1]-u[i,j])/dy) - ((u[i,j]-u[i,j-1])/dy))/dy\n",
    "            \n",
    "            lap = gamma*dt*(d2ud2x + d2ud2y)\n",
    "            \n",
    "            u[i,j] = u[i,j] + lap\n",
    "            \n",
    "    #Save plot every 200 time steps \n",
    "    if(iteration%200 == 0):\n",
    "        fig=plt.figure(figsize=(18, 16), dpi= 80, facecolor='w', edgecolor='k')\n",
    "        plt.imshow(u, extent=(0, L, 0, H),interpolation='nearest',cmap=cm.gist_rainbow)\n",
    "\n",
    "        plt.title('Heat Eqn @t={}'.format(iteration))\n",
    "        plt.colorbar()\n",
    "        #plt.show()\n",
    "\n",
    "        fig.savefig('C:/Users/sspie/OneDrive/Documents/1_Graduate School/ME 565 Eng Computation/plots/HEqn21{}.pdf'.format(iteration),\n",
    "                    bbox_inches = 'tight')\n",
    "        plt.close('all')"
   ]
  },
  {
   "cell_type": "markdown",
   "metadata": {},
   "source": []
  },
  {
   "cell_type": "code",
   "execution_count": 18,
   "metadata": {
    "collapsed": true
   },
   "outputs": [],
   "source": [
    "L = 300\n",
    "H = 300\n",
    "u = np.zeros((L,H))\n",
    "Lu = np.zeros((L,H))\n",
    "\n",
    "c1 = math.floor(L/2)\n",
    "c2 = math.floor(H/2)\n",
    "r2 = math.floor((L/2)**2)\n",
    "\n",
    "\n",
    "dx= 1\n",
    "dy= 1\n",
    "dt=.1\n",
    "gamma = 1\n",
    "\n",
    "iteration = 0\n",
    "while (iteration<3000):\n",
    "    iteration = iteration + 1\n",
    "\n",
    "    #Circular BCs => cosine\n",
    "    #must be careful because python is zero indexed\n",
    "    for i in range (0,c2):\n",
    "        for j in range (0,c1):\n",
    "            if((i-c2)**2 +(j-c1)**2 >= r2):    # top left\n",
    "                if (abs(i-(c2-1))**2+abs(j-(c1-1))**2)**0.5 > 0:\n",
    "                    u[i,j]=np.cos(abs(i-c2)/(abs(i-(c2-1))**2+abs(j-(c1-1))**2)**0.5)\n",
    "\n",
    "    for i in range (c2,H):\n",
    "        for j in range (0,c1):\n",
    "            if((i-c2)**2 +(j+1-c1)**2 >= r2):    # top right\n",
    "                if (abs(i-c2)**2+abs(j-(c1-1))**2)**0.5 > 0:\n",
    "                    u[i,j]=np.cos(abs(i-c2)/(abs(i-c2)**2+abs(j-(c1-1))**2)**0.5)\n",
    "\n",
    "    for i in range (0,c2):\n",
    "        for j in range (c1,L):\n",
    "            if((i+1-c2)**2 +(j+1-c1)**2 >= r2):    # bottom right\n",
    "                if (abs(i-(c2-1))**2+abs(j-c1)**2)**0.5 > 0:\n",
    "                    u[i,j]=np.cos(abs(i-c2)/(abs(i-(c2-1))**2+abs(j-c1)**2)**0.5)\n",
    "\n",
    "    for i in range (c2,H):\n",
    "        for j in range (c1,L):\n",
    "            if((i+1-c2)**2 +(j-c1)**2 >= r2):    # bottom left\n",
    "                if (abs(i-c2)**2+abs(j-c1)**2)**0.5  > 0:\n",
    "                    u[i,j]=np.cos(abs(i-c2)/(abs(i-c2)**2+abs(j-c1)**2)**0.5)\n",
    "                \n",
    "    #Rectangular BCs\n",
    "    u[0] = 0;  # top = 1\n",
    "    u[L-1] = 0;  # bottom = 1\n",
    "    u[:,0] = 1;  # left = 1\n",
    "    u[:,H-1] = 1;  # right = 1 \n",
    "                \n",
    "    #OPTION 1, B:  Use a 5-point stencil\n",
    "    \n",
    "    for i in range (1,L-1):\n",
    "        \n",
    "        for j in range (1,H-1):\n",
    "            d2ud2x = (((u[i+1,j]-u[i,j])/dx) - ((u[i,j]-u[i-1,j])/dx))/dx\n",
    "            d2ud2y = (((u[i,j+1]-u[i,j])/dy) - ((u[i,j]-u[i,j-1])/dy))/dy\n",
    "            \n",
    "            lap = gamma*dt*(d2ud2x + d2ud2y)\n",
    "            \n",
    "            u[i,j] = u[i,j] + lap\n",
    "            \n",
    "    #Save plot every 200 time steps \n",
    "    if(iteration%200 == 0):\n",
    "        fig=plt.figure(figsize=(10, 10), dpi= 80, facecolor='w', edgecolor='k')\n",
    "        plt.imshow(u, extent=(0, L, 0, H),interpolation='nearest',cmap=cm.gist_rainbow)\n",
    "\n",
    "        plt.title('Heat Eqn @t={}'.format(iteration))\n",
    "        plt.colorbar()\n",
    "        #plt.show()\n",
    "\n",
    "        fig.savefig('C:/Users/sspie/OneDrive/Documents/1_Graduate School/ME 565 Eng Computation/plots/HEqnCos{}.pdf'.format(iteration),\n",
    "                    bbox_inches = 'tight')\n",
    "        plt.close('all')"
   ]
  },
  {
   "cell_type": "code",
   "execution_count": null,
   "metadata": {
    "collapsed": true
   },
   "outputs": [],
   "source": []
  },
  {
   "cell_type": "code",
   "execution_count": 15,
   "metadata": {},
   "outputs": [
    {
     "name": "stdout",
     "output_type": "stream",
     "text": [
      "Once deleted, variables cannot be recovered. Proceed (y/[n])? y\n"
     ]
    }
   ],
   "source": [
    "%reset"
   ]
  },
  {
   "cell_type": "code",
   "execution_count": null,
   "metadata": {
    "collapsed": true
   },
   "outputs": [],
   "source": []
  }
 ],
 "metadata": {
  "kernelspec": {
   "display_name": "Python 3",
   "language": "python",
   "name": "python3"
  },
  "language_info": {
   "codemirror_mode": {
    "name": "ipython",
    "version": 3
   },
   "file_extension": ".py",
   "mimetype": "text/x-python",
   "name": "python",
   "nbconvert_exporter": "python",
   "pygments_lexer": "ipython3",
   "version": "3.6.1"
  }
 },
 "nbformat": 4,
 "nbformat_minor": 2
}

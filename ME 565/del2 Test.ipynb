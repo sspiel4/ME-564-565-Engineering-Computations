{
 "cells": [
  {
   "cell_type": "code",
   "execution_count": 4,
   "metadata": {
    "collapsed": true
   },
   "outputs": [],
   "source": [
    "import numpy as np\n",
    "\n",
    "def del2(M):\n",
    "    dx = 1\n",
    "    dy = 1\n",
    "    rows, cols = M.shape\n",
    "    dx = dx * np.ones ((1, cols - 1))\n",
    "    dy = dy * np.ones ((rows-1, 1))\n",
    "\n",
    "    mr, mc = M.shape\n",
    "    D = np.zeros ((mr, mc))\n",
    "\n",
    "    if (mr >= 3):\n",
    "        ## x direction\n",
    "        ## left and right boundary\n",
    "        D[:, 0] = (M[:, 0] - 2 * M[:, 1] + M[:, 2]) / (dx[:,0] * dx[:,1])\n",
    "        D[:, mc-1] = (M[:, mc - 3] - 2 * M[:, mc - 2] + M[:, mc-1]) \\\n",
    "            / (dx[:,mc - 3] * dx[:,mc - 2])\n",
    "\n",
    "        ## interior points\n",
    "        tmp1 = D[:, 1:mc - 1] \n",
    "        tmp2 = (M[:, 2:mc] - 2 * M[:, 1:mc - 1] + M[:, 0:mc - 2])\n",
    "        tmp3 = np.kron (dx[:,0:mc -2] * dx[:,1:mc - 1], np.ones ((mr, 1)))\n",
    "        D[:, 1:mc - 1] = tmp1 + tmp2 / tmp3\n",
    "\n",
    "    if (mr >= 3):\n",
    "        ## y direction\n",
    "        ## top and bottom boundary\n",
    "        D[0, :] = D[0,:]  + \\\n",
    "            (M[0, :] - 2 * M[1, :] + M[2, :] ) / (dy[0,:] * dy[1,:])\n",
    "\n",
    "        D[mr-1, :] = D[mr-1, :] \\\n",
    "            + (M[mr-3,:] - 2 * M[mr-2, :] + M[mr-1, :]) \\\n",
    "            / (dy[mr-3,:] * dx[:,mr-2])\n",
    "\n",
    "        ## interior points\n",
    "        tmp1 = D[1:mr-1, :] \n",
    "        tmp2 = (M[2:mr, :] - 2 * M[1:mr - 1, :] + M[0:mr-2, :])\n",
    "        tmp3 = np.kron (dy[0:mr-2,:] * dy[1:mr-1,:], np.ones ((1, mc)))\n",
    "        D[1:mr-1, :] = tmp1 + tmp2 / tmp3\n",
    "\n",
    "    return D / 4"
   ]
  },
  {
   "cell_type": "code",
   "execution_count": 6,
   "metadata": {},
   "outputs": [
    {
     "data": {
      "text/plain": [
       "array([[ 0.93586933,  0.32072961,  0.47258395,  0.627833  ,  0.58286762],\n",
       "       [ 0.41504382,  0.38775804,  0.27682768,  0.77594411,  0.41439168],\n",
       "       [ 0.76016713,  0.98273447,  0.90506621,  0.45105595,  0.74432411],\n",
       "       [ 0.6807669 ,  0.15894989,  0.48997492,  0.81864526,  0.85440953],\n",
       "       [ 0.50914791,  0.06540435,  0.46187032,  0.46109542,  0.78410417]])"
      ]
     },
     "execution_count": 6,
     "metadata": {},
     "output_type": "execute_result"
    }
   ],
   "source": [
    "grid = np.random.rand(5,5)\n",
    "grid"
   ]
  },
  {
   "cell_type": "code",
   "execution_count": 7,
   "metadata": {},
   "outputs": [
    {
     "data": {
      "text/plain": [
       "array([[ 0.40823572,  0.32373551,  0.20684738, -0.16830343,  0.07454848],\n",
       "       [ 0.19557606,  0.11107586,  0.35851039, -0.33341703, -0.09056512],\n",
       "       [-0.18118979, -0.42974916, -0.35491795,  0.35993897,  0.13185785],\n",
       "       [ 0.19015582,  0.39577028,  0.096158  , -0.25451131, -0.11832422],\n",
       "       [ 0.18699769,  0.39261214, -0.00256354, -0.10033888,  0.03584821]])"
      ]
     },
     "execution_count": 7,
     "metadata": {},
     "output_type": "execute_result"
    }
   ],
   "source": [
    "del2(grid)"
   ]
  },
  {
   "cell_type": "code",
   "execution_count": null,
   "metadata": {
    "collapsed": true
   },
   "outputs": [],
   "source": [
    "#del2 function does not appear to work. should converge to a constant average value"
   ]
  }
 ],
 "metadata": {
  "kernelspec": {
   "display_name": "Python 3",
   "language": "python",
   "name": "python3"
  },
  "language_info": {
   "codemirror_mode": {
    "name": "ipython",
    "version": 3
   },
   "file_extension": ".py",
   "mimetype": "text/x-python",
   "name": "python",
   "nbconvert_exporter": "python",
   "pygments_lexer": "ipython3",
   "version": "3.6.1"
  }
 },
 "nbformat": 4,
 "nbformat_minor": 2
}

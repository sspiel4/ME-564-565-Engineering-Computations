{
 "cells": [
  {
   "cell_type": "code",
   "execution_count": 181,
   "metadata": {},
   "outputs": [
    {
     "name": "stdout",
     "output_type": "stream",
     "text": [
      "Once deleted, variables cannot be recovered. Proceed (y/[n])? y\n"
     ]
    }
   ],
   "source": [
    "%reset"
   ]
  },
  {
   "cell_type": "code",
   "execution_count": 182,
   "metadata": {
    "collapsed": true
   },
   "outputs": [],
   "source": [
    "import numpy as np\n",
    "import math\n",
    "\n",
    "import time\n",
    "import itertools as itertools\n",
    "\n",
    "import matplotlib.pyplot as plt\n",
    "from matplotlib.backends.backend_pdf import PdfPages\n",
    "import matplotlib.cm as cm"
   ]
  },
  {
   "cell_type": "code",
   "execution_count": 204,
   "metadata": {},
   "outputs": [
    {
     "name": "stdout",
     "output_type": "stream",
     "text": [
      "3.0078887939453124e-05\n"
     ]
    }
   ],
   "source": [
    "i = 0\n",
    "tt2 = 0\n",
    "for i in range (0,1000):\n",
    "    v2 = np.random.rand(2**2)\n",
    "    t = time.time()\n",
    "    np.fft.fft(v2)\n",
    "    t2 = time.time() -t\n",
    "    tt2 = tt2 + t2\n",
    "print(tt2/1000)"
   ]
  },
  {
   "cell_type": "code",
   "execution_count": 184,
   "metadata": {},
   "outputs": [
    {
     "name": "stdout",
     "output_type": "stream",
     "text": [
      "3.008079528808594e-05\n"
     ]
    }
   ],
   "source": [
    "i = 0\n",
    "tt3 = 0\n",
    "for i in range (0,1000):\n",
    "    v3 = np.random.rand(1,2**3)\n",
    "    t = time.time()\n",
    "    np.fft.fft(v3)\n",
    "    t3 = time.time() - t\n",
    "    tt3 = tt3 + t3\n",
    "print(tt3/1000)"
   ]
  },
  {
   "cell_type": "code",
   "execution_count": 185,
   "metadata": {},
   "outputs": [
    {
     "name": "stdout",
     "output_type": "stream",
     "text": [
      "3.406381607055664e-05\n"
     ]
    }
   ],
   "source": [
    "i = 0\n",
    "tt4 = 0\n",
    "for i in range (0,1000):\n",
    "    v4 = np.random.rand(1,2**4)\n",
    "    t = time.time()\n",
    "    np.fft.fft(v4)\n",
    "    t4 = time.time() - t\n",
    "    tt4 = tt4 + t4\n",
    "print(tt4/1000)"
   ]
  },
  {
   "cell_type": "code",
   "execution_count": 186,
   "metadata": {},
   "outputs": [
    {
     "name": "stdout",
     "output_type": "stream",
     "text": [
      "3.307938575744629e-05\n"
     ]
    }
   ],
   "source": [
    "i = 0\n",
    "tt5 = 0\n",
    "for i in range (0,1000):\n",
    "    v5 = np.random.rand(1,2**5)\n",
    "    t = time.time()\n",
    "    np.fft.fft(v5)\n",
    "    t5 = time.time() - t\n",
    "    tt5 = tt5 + t5\n",
    "print(tt5/1000)"
   ]
  },
  {
   "cell_type": "code",
   "execution_count": 187,
   "metadata": {},
   "outputs": [
    {
     "name": "stdout",
     "output_type": "stream",
     "text": [
      "3.0077695846557617e-05\n"
     ]
    }
   ],
   "source": [
    "i = 0\n",
    "tt6 = 0\n",
    "for i in range (0,1000):\n",
    "    v6 = np.random.rand(1,2**6)\n",
    "    t = time.time()\n",
    "    np.fft.fft(v6)\n",
    "    t6 = time.time() - t\n",
    "    tt6 = tt6 + t6\n",
    "print(tt6/1000)"
   ]
  },
  {
   "cell_type": "code",
   "execution_count": 188,
   "metadata": {},
   "outputs": [
    {
     "name": "stdout",
     "output_type": "stream",
     "text": [
      "2.807450294494629e-05\n"
     ]
    }
   ],
   "source": [
    "i = 0\n",
    "tt7 = 0\n",
    "for i in range (0,1000):\n",
    "    v7 = np.random.rand(1,2**7)\n",
    "    t = time.time()\n",
    "    np.fft.fft(v7)\n",
    "    t7 = time.time() - t\n",
    "    tt7 = tt7 + t7\n",
    "print(tt7/1000)"
   ]
  },
  {
   "cell_type": "code",
   "execution_count": 189,
   "metadata": {},
   "outputs": [
    {
     "name": "stdout",
     "output_type": "stream",
     "text": [
      "3.8094282150268554e-05\n"
     ]
    }
   ],
   "source": [
    "i = 0\n",
    "tt8 = 0\n",
    "for i in range (0,1000):\n",
    "    v8 = np.random.rand(1,2**8)\n",
    "    t = time.time()\n",
    "    np.fft.fft(v8)\n",
    "    t8 = time.time() - t\n",
    "    tt8 = tt8 + t8\n",
    "print(tt8/1000)"
   ]
  },
  {
   "cell_type": "code",
   "execution_count": 190,
   "metadata": {},
   "outputs": [
    {
     "name": "stdout",
     "output_type": "stream",
     "text": [
      "5.317282676696777e-05\n"
     ]
    }
   ],
   "source": [
    "i = 0\n",
    "tt9 = 0\n",
    "for i in range (0,1000):\n",
    "    v9 = np.random.rand(1,2**9)\n",
    "    t = time.time()\n",
    "    np.fft.fft(v9)\n",
    "    t9 = time.time() - t\n",
    "    tt9 = tt9 + t9\n",
    "print(tt9/1000)"
   ]
  },
  {
   "cell_type": "code",
   "execution_count": 191,
   "metadata": {},
   "outputs": [
    {
     "name": "stdout",
     "output_type": "stream",
     "text": [
      "5.116963386535645e-05\n"
     ]
    }
   ],
   "source": [
    "i = 0\n",
    "tt10 = 0\n",
    "for i in range (0,1000):\n",
    "    v10 = np.random.rand(1,2**10)\n",
    "    t = time.time()\n",
    "    np.fft.fft(v10)\n",
    "    t10 = time.time() - t\n",
    "    tt10 = tt10 + t10\n",
    "print(tt10/1000)"
   ]
  },
  {
   "cell_type": "code",
   "execution_count": 192,
   "metadata": {},
   "outputs": [
    {
     "name": "stdout",
     "output_type": "stream",
     "text": [
      "8.020877838134766e-05\n"
     ]
    }
   ],
   "source": [
    "i = 0\n",
    "tt11 = 0\n",
    "for i in range (0,1000):\n",
    "    v11 = np.random.rand(1,2**11)\n",
    "    t = time.time()\n",
    "    np.fft.fft(v11)\n",
    "    t11 = time.time() - t\n",
    "    tt11 = tt11 + t11\n",
    "print(tt11/1000)"
   ]
  },
  {
   "cell_type": "code",
   "execution_count": 193,
   "metadata": {},
   "outputs": [
    {
     "name": "stdout",
     "output_type": "stream",
     "text": [
      "0.0001264052391052246\n"
     ]
    }
   ],
   "source": [
    "i = 0\n",
    "tt12 = 0\n",
    "for i in range (0,1000):\n",
    "    v12 = np.random.rand(1,2**12)\n",
    "    t = time.time()\n",
    "    np.fft.fft(v12)\n",
    "    t12 = time.time() - t\n",
    "    tt12 = tt12 + t12\n",
    "print(tt12/1000)"
   ]
  },
  {
   "cell_type": "code",
   "execution_count": 194,
   "metadata": {},
   "outputs": [
    {
     "name": "stdout",
     "output_type": "stream",
     "text": [
      "0.00021657514572143553\n"
     ]
    }
   ],
   "source": [
    "i = 0\n",
    "tt13 = 0\n",
    "for i in range (0,1000):\n",
    "    v13 = np.random.rand(1,2**13)\n",
    "    t = time.time()\n",
    "    np.fft.fft(v13)\n",
    "    t13 = time.time() - t\n",
    "    tt13 = tt13 + t13\n",
    "print(tt13/1000)"
   ]
  },
  {
   "cell_type": "code",
   "execution_count": 195,
   "metadata": {},
   "outputs": [
    {
     "name": "stdout",
     "output_type": "stream",
     "text": [
      "0.00047223639488220214\n"
     ]
    }
   ],
   "source": [
    "i = 0\n",
    "tt14 = 0\n",
    "for i in range (0,1000):\n",
    "    v14 = np.random.rand(1,2**14)\n",
    "    t = time.time()\n",
    "    np.fft.fft(v14)\n",
    "    t14 = time.time() - t\n",
    "    tt14 = tt14 + t14\n",
    "print(tt14/1000)"
   ]
  },
  {
   "cell_type": "code",
   "execution_count": 196,
   "metadata": {},
   "outputs": [
    {
     "name": "stdout",
     "output_type": "stream",
     "text": [
      "0.0009014258384704589\n"
     ]
    }
   ],
   "source": [
    "i = 0\n",
    "tt15 = 0\n",
    "for i in range (0,1000):\n",
    "    v15 = np.random.rand(1,2**15)\n",
    "    t = time.time()\n",
    "    np.fft.fft(v15)\n",
    "    t15 = time.time() - t\n",
    "    tt15 = tt15 + t15\n",
    "print(tt15/1000)"
   ]
  },
  {
   "cell_type": "code",
   "execution_count": 197,
   "metadata": {},
   "outputs": [
    {
     "name": "stdout",
     "output_type": "stream",
     "text": [
      "0.0028593664169311523\n"
     ]
    }
   ],
   "source": [
    "i = 0\n",
    "tt16 = 0\n",
    "for i in range (0,1000):\n",
    "    v16 = np.random.rand(1,2**16)\n",
    "    t = time.time()\n",
    "    np.fft.fft(v16)\n",
    "    t16 = time.time() - t\n",
    "    tt16 = tt16 + t16\n",
    "print(tt16/1000)"
   ]
  },
  {
   "cell_type": "code",
   "execution_count": 200,
   "metadata": {},
   "outputs": [
    {
     "data": {
      "text/plain": [
       "[0.040106773376464844,\n",
       " 0.030080795288085938,\n",
       " 0.03406381607055664,\n",
       " 0.03307938575744629,\n",
       " 0.030077695846557617,\n",
       " 0.02807450294494629,\n",
       " 0.038094282150268555,\n",
       " 0.05317282676696777,\n",
       " 0.051169633865356445,\n",
       " 0.08020877838134766,\n",
       " 0.1264052391052246,\n",
       " 0.21657514572143555,\n",
       " 0.47223639488220215,\n",
       " 0.901425838470459,\n",
       " 2.8593664169311523]"
      ]
     },
     "execution_count": 200,
     "metadata": {},
     "output_type": "execute_result"
    }
   ],
   "source": [
    "#create vectors to plot. \n",
    "index = np.linspace(2,16,15)\n",
    "times = [tt2,tt3,tt4,tt5,tt6,tt7,tt8,tt9,tt10,tt11,tt12,tt13,tt14,tt15,tt16]\n",
    "times"
   ]
  },
  {
   "cell_type": "code",
   "execution_count": 202,
   "metadata": {},
   "outputs": [
    {
     "data": {
      "image/png": "[encoded data removed]",
      "text/plain": [
       "<matplotlib.figure.Figure at 0x1853083a978>"
      ]
     },
     "metadata": {},
     "output_type": "display_data"
    }
   ],
   "source": [
    "#create figure object\n",
    "fig = plt.figure()\n",
    "\n",
    "#plot each set of y values with respect to time\n",
    "ax = fig.add_axes([0,0,1,1])\n",
    "\n",
    "ax.plot(index,times, label = 'fft 2^k')\n",
    "\n",
    "#title axis\n",
    "ax.set_xlabel('k')\n",
    "ax.set_ylabel('Computational Time (ms)')\n",
    "ax.set_title('Excercise 4-1: FFT Computational Time of Random Valued Vector')\n",
    "ax.set_yscale('log', basey = np.e)\n",
    "\n",
    "#include legend\n",
    "plt.legend(bbox_to_anchor=(1.05, 1), loc=2, borderaxespad=0.)\n",
    "\n",
    "plt.show()"
   ]
  },
  {
   "cell_type": "code",
   "execution_count": null,
   "metadata": {
    "collapsed": true
   },
   "outputs": [],
   "source": []
  }
 ],
 "metadata": {
  "kernelspec": {
   "display_name": "Python 3",
   "language": "python",
   "name": "python3"
  },
  "language_info": {
   "codemirror_mode": {
    "name": "ipython",
    "version": 3
   },
   "file_extension": ".py",
   "mimetype": "text/x-python",
   "name": "python",
   "nbconvert_exporter": "python",
   "pygments_lexer": "ipython3",
   "version": "3.6.1"
  }
 },
 "nbformat": 4,
 "nbformat_minor": 2
}

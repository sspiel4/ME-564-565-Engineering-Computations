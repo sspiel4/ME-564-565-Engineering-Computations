{
 "cells": [
  {
   "cell_type": "code",
   "execution_count": 26,
   "metadata": {
    "collapsed": false
   },
   "outputs": [
    {
     "name": "stdout",
     "output_type": "stream",
     "text": [
      "Once deleted, variables cannot be recovered. Proceed (y/[n])? y\n"
     ]
    }
   ],
   "source": [
    "%reset"
   ]
  },
  {
   "cell_type": "code",
   "execution_count": 27,
   "metadata": {
    "collapsed": true
   },
   "outputs": [],
   "source": [
    "import numpy as np\n",
    "import math\n",
    "\n",
    "import time\n",
    "import itertools as itertools\n",
    "\n",
    "import matplotlib.pyplot as plt\n",
    "from matplotlib.backends.backend_pdf import PdfPages\n",
    "import matplotlib.cm as cm"
   ]
  },
  {
   "cell_type": "code",
   "execution_count": 28,
   "metadata": {
    "collapsed": false
   },
   "outputs": [],
   "source": [
    "iterations = 100\n",
    "k_end = 16\n",
    "\n",
    "k = {}\n",
    "v = {}\n",
    "d = {}\n",
    "for i in range (2,k_end):\n",
    "    k[\"k\" + str(i)] = i\n",
    "    v[\"v\" + str(i)] = 2**i\n",
    "    d[\"d\" + str(i)] = 3\n",
    "    tt = 0\n",
    "\n",
    "    for j in range (1,iterations):\n",
    "        random_vals = np.random.rand(v[\"v\" + str(i)])\n",
    "        \n",
    "        t = time.time()\n",
    "        np.fft.fft(random_vals)\n",
    "        t2 = time.time() - t\n",
    "        tt = tt + t2\n",
    "        \n",
    "    d[\"d\" + str(i)] = tt/iterations"
   ]
  },
  {
   "cell_type": "code",
   "execution_count": 29,
   "metadata": {
    "collapsed": false
   },
   "outputs": [],
   "source": [
    "index = k.values()\n",
    "times = d.values()"
   ]
  },
  {
   "cell_type": "code",
   "execution_count": 8,
   "metadata": {
    "collapsed": true
   },
   "outputs": [],
   "source": [
    "#create figure object\n",
    "fig = plt.figure()\n",
    "\n",
    "#plot each set of y values with respect to time\n",
    "ax = fig.add_axes([0,0,1,1])\n",
    "\n",
    "ax.plot(index,times, label = 'fft 2^k')\n",
    "\n",
    "#title axis\n",
    "ax.set_xlabel('k')\n",
    "ax.set_ylabel('Computational Time (ms)')\n",
    "ax.set_title('Excercise 4-1: FFT Computational Time of Random Valued Vector')\n",
    "ax.set_yscale('log', basey = np.e)\n",
    "\n",
    "#include legend\n",
    "plt.legend(bbox_to_anchor=(1.05, 1), loc=2, borderaxespad=0.)\n",
    "\n",
    "plt.show()"
   ]
  },
  {
   "cell_type": "code",
   "execution_count": 31,
   "metadata": {
    "collapsed": false
   },
   "outputs": [
    {
     "name": "stdout",
     "output_type": "stream",
     "text": [
      "6.00004196167e-06\n"
     ]
    }
   ],
   "source": [
    "i = 0\n",
    "tt2 = 0\n",
    "for i in range (0,1000):\n",
    "    v2 = np.random.rand(2**2)\n",
    "    t = time.time()\n",
    "    np.fft.fft(v2)\n",
    "    t2 = time.time() -t\n",
    "    tt2 = tt2 + t2\n",
    "print(tt2/1000)"
   ]
  },
  {
   "cell_type": "code",
   "execution_count": 32,
   "metadata": {
    "collapsed": false
   },
   "outputs": [
    {
     "name": "stdout",
     "output_type": "stream",
     "text": [
      "6.99996948242e-06\n"
     ]
    }
   ],
   "source": [
    "i = 0\n",
    "tt3 = 0\n",
    "for i in range (0,1000):\n",
    "    v3 = np.random.rand(1,2**3)\n",
    "    t = time.time()\n",
    "    np.fft.fft(v3)\n",
    "    t3 = time.time() - t\n",
    "    tt3 = tt3 + t3\n",
    "print(tt3/1000)"
   ]
  },
  {
   "cell_type": "code",
   "execution_count": 33,
   "metadata": {
    "collapsed": false
   },
   "outputs": [
    {
     "name": "stdout",
     "output_type": "stream",
     "text": [
      "5.00011444092e-06\n"
     ]
    }
   ],
   "source": [
    "i = 0\n",
    "tt4 = 0\n",
    "for i in range (0,1000):\n",
    "    v4 = np.random.rand(1,2**4)\n",
    "    t = time.time()\n",
    "    np.fft.fft(v4)\n",
    "    t4 = time.time() - t\n",
    "    tt4 = tt4 + t4\n",
    "print(tt4/1000)"
   ]
  },
  {
   "cell_type": "code",
   "execution_count": 34,
   "metadata": {
    "collapsed": false
   },
   "outputs": [
    {
     "name": "stdout",
     "output_type": "stream",
     "text": [
      "4.00018692017e-06\n"
     ]
    }
   ],
   "source": [
    "i = 0\n",
    "tt5 = 0\n",
    "for i in range (0,1000):\n",
    "    v5 = np.random.rand(1,2**5)\n",
    "    t = time.time()\n",
    "    np.fft.fft(v5)\n",
    "    t5 = time.time() - t\n",
    "    tt5 = tt5 + t5\n",
    "print(tt5/1000)"
   ]
  },
  {
   "cell_type": "code",
   "execution_count": 35,
   "metadata": {
    "collapsed": false
   },
   "outputs": [
    {
     "name": "stdout",
     "output_type": "stream",
     "text": [
      "1.00002288818e-05\n"
     ]
    }
   ],
   "source": [
    "i = 0\n",
    "tt6 = 0\n",
    "for i in range (0,1000):\n",
    "    v6 = np.random.rand(1,2**6)\n",
    "    t = time.time()\n",
    "    np.fft.fft(v6)\n",
    "    t6 = time.time() - t\n",
    "    tt6 = tt6 + t6\n",
    "print(tt6/1000)"
   ]
  },
  {
   "cell_type": "code",
   "execution_count": 36,
   "metadata": {
    "collapsed": false
   },
   "outputs": [
    {
     "name": "stdout",
     "output_type": "stream",
     "text": [
      "9.0000629425e-06\n"
     ]
    }
   ],
   "source": [
    "i = 0\n",
    "tt7 = 0\n",
    "for i in range (0,1000):\n",
    "    v7 = np.random.rand(1,2**7)\n",
    "    t = time.time()\n",
    "    np.fft.fft(v7)\n",
    "    t7 = time.time() - t\n",
    "    tt7 = tt7 + t7\n",
    "print(tt7/1000)"
   ]
  },
  {
   "cell_type": "code",
   "execution_count": 37,
   "metadata": {
    "collapsed": false
   },
   "outputs": [
    {
     "name": "stdout",
     "output_type": "stream",
     "text": [
      "9.99999046326e-06\n"
     ]
    }
   ],
   "source": [
    "i = 0\n",
    "tt8 = 0\n",
    "for i in range (0,1000):\n",
    "    v8 = np.random.rand(1,2**8)\n",
    "    t = time.time()\n",
    "    np.fft.fft(v8)\n",
    "    t8 = time.time() - t\n",
    "    tt8 = tt8 + t8\n",
    "print(tt8/1000)"
   ]
  },
  {
   "cell_type": "code",
   "execution_count": 38,
   "metadata": {
    "collapsed": false
   },
   "outputs": [
    {
     "name": "stdout",
     "output_type": "stream",
     "text": [
      "1.40006542206e-05\n"
     ]
    }
   ],
   "source": [
    "i = 0\n",
    "tt9 = 0\n",
    "for i in range (0,1000):\n",
    "    v9 = np.random.rand(1,2**9)\n",
    "    t = time.time()\n",
    "    np.fft.fft(v9)\n",
    "    t9 = time.time() - t\n",
    "    tt9 = tt9 + t9\n",
    "print(tt9/1000)"
   ]
  },
  {
   "cell_type": "code",
   "execution_count": 39,
   "metadata": {
    "collapsed": false
   },
   "outputs": [
    {
     "name": "stdout",
     "output_type": "stream",
     "text": [
      "2.49996185303e-05\n"
     ]
    }
   ],
   "source": [
    "i = 0\n",
    "tt10 = 0\n",
    "for i in range (0,1000):\n",
    "    v10 = np.random.rand(1,2**10)\n",
    "    t = time.time()\n",
    "    np.fft.fft(v10)\n",
    "    t10 = time.time() - t\n",
    "    tt10 = tt10 + t10\n",
    "print(tt10/1000)"
   ]
  },
  {
   "cell_type": "code",
   "execution_count": 40,
   "metadata": {
    "collapsed": false
   },
   "outputs": [
    {
     "name": "stdout",
     "output_type": "stream",
     "text": [
      "4.50000762939e-05\n"
     ]
    }
   ],
   "source": [
    "i = 0\n",
    "tt11 = 0\n",
    "for i in range (0,1000):\n",
    "    v11 = np.random.rand(1,2**11)\n",
    "    t = time.time()\n",
    "    np.fft.fft(v11)\n",
    "    t11 = time.time() - t\n",
    "    tt11 = tt11 + t11\n",
    "print(tt11/1000)"
   ]
  },
  {
   "cell_type": "code",
   "execution_count": 41,
   "metadata": {
    "collapsed": false
   },
   "outputs": [
    {
     "name": "stdout",
     "output_type": "stream",
     "text": [
      "7.60004520416e-05\n"
     ]
    }
   ],
   "source": [
    "i = 0\n",
    "tt12 = 0\n",
    "for i in range (0,1000):\n",
    "    v12 = np.random.rand(1,2**12)\n",
    "    t = time.time()\n",
    "    np.fft.fft(v12)\n",
    "    t12 = time.time() - t\n",
    "    tt12 = tt12 + t12\n",
    "print(tt12/1000)"
   ]
  },
  {
   "cell_type": "code",
   "execution_count": 42,
   "metadata": {
    "collapsed": false
   },
   "outputs": [
    {
     "name": "stdout",
     "output_type": "stream",
     "text": [
      "0.000160000801086\n"
     ]
    }
   ],
   "source": [
    "i = 0\n",
    "tt13 = 0\n",
    "for i in range (0,1000):\n",
    "    v13 = np.random.rand(1,2**13)\n",
    "    t = time.time()\n",
    "    np.fft.fft(v13)\n",
    "    t13 = time.time() - t\n",
    "    tt13 = tt13 + t13\n",
    "print(tt13/1000)"
   ]
  },
  {
   "cell_type": "code",
   "execution_count": 43,
   "metadata": {
    "collapsed": false
   },
   "outputs": [
    {
     "name": "stdout",
     "output_type": "stream",
     "text": [
      "0.000351997613907\n"
     ]
    }
   ],
   "source": [
    "i = 0\n",
    "tt14 = 0\n",
    "for i in range (0,1000):\n",
    "    v14 = np.random.rand(1,2**14)\n",
    "    t = time.time()\n",
    "    np.fft.fft(v14)\n",
    "    t14 = time.time() - t\n",
    "    tt14 = tt14 + t14\n",
    "print(tt14/1000)"
   ]
  },
  {
   "cell_type": "code",
   "execution_count": 44,
   "metadata": {
    "collapsed": false
   },
   "outputs": [
    {
     "name": "stdout",
     "output_type": "stream",
     "text": [
      "0.000860999822617\n"
     ]
    }
   ],
   "source": [
    "i = 0\n",
    "tt15 = 0\n",
    "for i in range (0,1000):\n",
    "    v15 = np.random.rand(1,2**15)\n",
    "    t = time.time()\n",
    "    np.fft.fft(v15)\n",
    "    t15 = time.time() - t\n",
    "    tt15 = tt15 + t15\n",
    "print(tt15/1000)"
   ]
  },
  {
   "cell_type": "code",
   "execution_count": 45,
   "metadata": {
    "collapsed": false
   },
   "outputs": [
    {
     "name": "stdout",
     "output_type": "stream",
     "text": [
      "0.00288998985291\n"
     ]
    }
   ],
   "source": [
    "i = 0\n",
    "tt16 = 0\n",
    "for i in range (0,1000):\n",
    "    v16 = np.random.rand(1,2**16)\n",
    "    t = time.time()\n",
    "    np.fft.fft(v16)\n",
    "    t16 = time.time() - t\n",
    "    tt16 = tt16 + t16\n",
    "print(tt16/1000)"
   ]
  },
  {
   "cell_type": "code",
   "execution_count": 46,
   "metadata": {
    "collapsed": false
   },
   "outputs": [
    {
     "data": {
      "text/plain": [
       "[0.006000041961669922,\n",
       " 0.006999969482421875,\n",
       " 0.005000114440917969,\n",
       " 0.004000186920166016,\n",
       " 0.010000228881835938,\n",
       " 0.009000062942504883,\n",
       " 0.009999990463256836,\n",
       " 0.014000654220581055,\n",
       " 0.024999618530273438,\n",
       " 0.04500007629394531,\n",
       " 0.07600045204162598,\n",
       " 0.16000080108642578,\n",
       " 0.35199761390686035,\n",
       " 0.8609998226165771,\n",
       " 2.8899898529052734]"
      ]
     },
     "execution_count": 46,
     "metadata": {},
     "output_type": "execute_result"
    }
   ],
   "source": [
    "#create vectors to plot. \n",
    "index = np.linspace(2,16,15)\n",
    "times = [tt2,tt3,tt4,tt5,tt6,tt7,tt8,tt9,tt10,tt11,tt12,tt13,tt14,tt15,tt16]\n",
    "times"
   ]
  },
  {
   "cell_type": "code",
   "execution_count": 47,
   "metadata": {
    "collapsed": false
   },
   "outputs": [],
   "source": [
    "#create figure object\n",
    "fig = plt.figure()\n",
    "\n",
    "#plot each set of y values with respect to time\n",
    "ax = fig.add_axes([0,0,1,1])\n",
    "\n",
    "ax.plot(index,times, label = 'fft 2^k')\n",
    "\n",
    "#title axis\n",
    "ax.set_xlabel('k')\n",
    "ax.set_ylabel('Computational Time (ms)')\n",
    "ax.set_title('Excercise 4-1: FFT Computational Time of Random Valued Vector')\n",
    "ax.set_yscale('log', basey = np.e)\n",
    "\n",
    "#include legend\n",
    "plt.legend(bbox_to_anchor=(1.05, 1), loc=2, borderaxespad=0.)\n",
    "\n",
    "plt.show()"
   ]
  },
  {
   "cell_type": "code",
   "execution_count": null,
   "metadata": {
    "collapsed": true
   },
   "outputs": [],
   "source": []
  },
  {
   "cell_type": "code",
   "execution_count": null,
   "metadata": {
    "collapsed": true
   },
   "outputs": [],
   "source": []
  }
 ],
 "metadata": {
  "kernelspec": {
   "display_name": "Python [Root]",
   "language": "python",
   "name": "Python [Root]"
  },
  "language_info": {
   "codemirror_mode": {
    "name": "ipython",
    "version": 2
   },
   "file_extension": ".py",
   "mimetype": "text/x-python",
   "name": "python",
   "nbconvert_exporter": "python",
   "pygments_lexer": "ipython2",
   "version": "2.7.12"
  }
 },
 "nbformat": 4,
 "nbformat_minor": 2
}

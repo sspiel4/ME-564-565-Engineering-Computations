{
 "cells": [
  {
   "cell_type": "code",
   "execution_count": 4,
   "metadata": {
    "collapsed": true
   },
   "outputs": [],
   "source": [
    "import numpy as np\n",
    "from scipy import integrate\n",
    "from numpy import linalg as LA\n",
    "import matplotlib.pyplot as plt\n",
    "from matplotlib.backends.backend_pdf import PdfPages\n",
    "\n",
    "def solvr(Y, t):\n",
    "    return [Y[1], -10 * Y[0] -7* Y[1]]"
   ]
  },
  {
   "cell_type": "markdown",
   "metadata": {},
   "source": [
    "### Matrix Calculation"
   ]
  },
  {
   "cell_type": "code",
   "execution_count": 5,
   "metadata": {},
   "outputs": [
    {
     "name": "stdout",
     "output_type": "stream",
     "text": [
      "A-Matrix\n",
      "[[  0   1]\n",
      " [-10  -7]]\n",
      "T-Matrix\n",
      "[[1 1]\n",
      " [2 5]]\n",
      "T-1-Matrix\n",
      "[[ 1.66666667 -0.33333333]\n",
      " [-0.66666667  0.33333333]]\n"
     ]
    }
   ],
   "source": [
    "T = np.array([[1,1],[2,5]])\n",
    "A = np.array([[0,1],[-10,-7]])\n",
    "T_inv = LA.inv(T)\n",
    "print('A-Matrix')\n",
    "print(A)\n",
    "print('T-Matrix')\n",
    "print(T)\n",
    "print('T-1-Matrix')\n",
    "print(T_inv)"
   ]
  },
  {
   "cell_type": "markdown",
   "metadata": {},
   "source": [
    "### Plot System Behavior with Time"
   ]
  },
  {
   "cell_type": "code",
   "execution_count": 6,
   "metadata": {
    "collapsed": true
   },
   "outputs": [],
   "source": [
    "#establish a time range to compute the solution\n",
    "a_t = np.arange(0, 10, 0.01)\n",
    "#matrix returned from solvr, initial conditions, time range.\n",
    "asol = integrate.odeint(solvr, [1, 1], a_t)\n",
    "p = asol[:,1:2]"
   ]
  },
  {
   "cell_type": "code",
   "execution_count": 10,
   "metadata": {},
   "outputs": [
    {
     "data": {
      "image/png": "[encoded data removed]",
      "text/plain": [
       "<matplotlib.figure.Figure at 0x19d1cd75cf8>"
      ]
     },
     "metadata": {},
     "output_type": "display_data"
    }
   ],
   "source": [
    "#create figure object\n",
    "fig = plt.figure()\n",
    "\n",
    "#plot each set of y values with respect to time\n",
    "ax = fig.add_axes([0,0,1,1])\n",
    "ax.plot(a_t,p, label='System Behavior')\n",
    "\n",
    "#set limits on x axis\n",
    "ax.set_xlim(0,10)\n",
    "\n",
    "#title axis\n",
    "ax.set_xlabel('time (t)')\n",
    "ax.set_ylabel(' (x)')\n",
    "ax.set_title('Excercise 1-2')\n",
    "\n",
    "#include legend\n",
    "plt.legend(bbox_to_anchor=(1.05, 1), loc=2, borderaxespad=0.)\n",
    "\n",
    "plt.show()\n",
    "\n",
    "#save PDF\n",
    "fig.savefig('C:/Users/sspie/OneDrive/Documents/1_Graduate School/ME 564 Eng Computation/HW2/plots/2-1.pdf',\n",
    "            bbox_inches = 'tight')"
   ]
  },
  {
   "cell_type": "code",
   "execution_count": null,
   "metadata": {
    "collapsed": true
   },
   "outputs": [],
   "source": []
  },
  {
   "cell_type": "code",
   "execution_count": null,
   "metadata": {
    "collapsed": true
   },
   "outputs": [],
   "source": []
  }
 ],
 "metadata": {
  "kernelspec": {
   "display_name": "Python 3",
   "language": "python",
   "name": "python3"
  },
  "language_info": {
   "codemirror_mode": {
    "name": "ipython",
    "version": 3
   },
   "file_extension": ".py",
   "mimetype": "text/x-python",
   "name": "python",
   "nbconvert_exporter": "python",
   "pygments_lexer": "ipython3",
   "version": "3.6.1"
  }
 },
 "nbformat": 4,
 "nbformat_minor": 2
}

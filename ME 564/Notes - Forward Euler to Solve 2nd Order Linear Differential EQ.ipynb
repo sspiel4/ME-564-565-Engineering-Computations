{
 "cells": [
  {
   "cell_type": "code",
   "execution_count": 192,
   "metadata": {
    "collapsed": true
   },
   "outputs": [],
   "source": [
    "import numpy as np\n",
    "import matplotlib.pyplot as plt\n",
    "from matplotlib.backends.backend_pdf import PdfPages"
   ]
  },
  {
   "cell_type": "code",
   "execution_count": 212,
   "metadata": {},
   "outputs": [
    {
     "data": {
      "text/plain": [
       "array([[ 2.5,  2.1,  2. ],\n",
       "       [ 3. ,  2.5,  2.3]])"
      ]
     },
     "execution_count": 212,
     "metadata": {},
     "output_type": "execute_result"
    }
   ],
   "source": [
    "w = 2*np.pi #natural freuency\n",
    "zeta = -2 #damping coefficient\n",
    "\n",
    "#how to create some array that we can add values too.\n",
    "y_o = np.array([[2.5],[3]]) #two by two arraw\n",
    "eye2 = np.eye(2) #identity matrix two by two\n",
    "yK = y_o #zeros\n",
    "yK = np.append(yK, np.array([[2.1],[2.5]]), axis = 1) #addes column to yK\n",
    "yK = np.append(yK, np.array([[2.],[2.3]]), axis = 1) #addes column to yK\n",
    "yK"
   ]
  },
  {
   "cell_type": "code",
   "execution_count": 213,
   "metadata": {},
   "outputs": [
    {
     "data": {
      "text/plain": [
       "array([[ 2.5,  2.1,  2. ]])"
      ]
     },
     "execution_count": 213,
     "metadata": {},
     "output_type": "execute_result"
    }
   ],
   "source": [
    "yK[0:1,0:] #select first row. [row positions, column positions] use python indexing to choose rows"
   ]
  },
  {
   "cell_type": "code",
   "execution_count": 214,
   "metadata": {},
   "outputs": [
    {
     "data": {
      "text/plain": [
       "array([[ 3. ,  2.5,  2.3]])"
      ]
     },
     "execution_count": 214,
     "metadata": {},
     "output_type": "execute_result"
    }
   ],
   "source": [
    "yK[1:2,0:] #select second row"
   ]
  },
  {
   "cell_type": "code",
   "execution_count": 215,
   "metadata": {},
   "outputs": [
    {
     "data": {
      "text/plain": [
       "array([[ 2.]])"
      ]
     },
     "execution_count": 215,
     "metadata": {},
     "output_type": "execute_result"
    }
   ],
   "source": [
    "n = 2\n",
    "m = 2\n",
    "z = yK[:, n:(n+1)] #select last column\n",
    "z[:1]"
   ]
  },
  {
   "cell_type": "code",
   "execution_count": 216,
   "metadata": {
    "collapsed": true
   },
   "outputs": [],
   "source": [
    "#create array of integers from 0 to 100 to use in plots. \n",
    "t = np.arange(0,10,.01)"
   ]
  },
  {
   "cell_type": "code",
   "execution_count": 217,
   "metadata": {
    "collapsed": true
   },
   "outputs": [],
   "source": [
    "#matrix A as spring mass damper system\n",
    "A = np.array([[0,1],[-w**2,zeta]])"
   ]
  },
  {
   "cell_type": "code",
   "execution_count": 218,
   "metadata": {},
   "outputs": [
    {
     "data": {
      "text/plain": [
       "array([[-30.5188919 ],\n",
       "       [-60.58221077]])"
      ]
     },
     "execution_count": 218,
     "metadata": {},
     "output_type": "execute_result"
    }
   ],
   "source": [
    "p = np.matmul((np.eye(2) + .01*A),y)\n",
    "p"
   ]
  },
  {
   "cell_type": "code",
   "execution_count": 219,
   "metadata": {},
   "outputs": [
    {
     "data": {
      "text/plain": [
       "50"
      ]
     },
     "execution_count": 219,
     "metadata": {},
     "output_type": "execute_result"
    }
   ],
   "source": [
    "t =  np.arange(0,5,0.1)\n",
    "len(t)"
   ]
  },
  {
   "cell_type": "code",
   "execution_count": 220,
   "metadata": {},
   "outputs": [
    {
     "data": {
      "text/plain": [
       "array([[ 2.5       ,  2.5003    ,  2.5003    , ..., -0.18763778,\n",
       "        -0.18768881, -0.18768881],\n",
       "       [ 3.        ,  2.9895304 ,  2.9895304 , ..., -0.51023797,\n",
       "        -0.50939516, -0.50939516]])"
      ]
     },
     "execution_count": 220,
     "metadata": {},
     "output_type": "execute_result"
    }
   ],
   "source": [
    "dt = .0001\n",
    "t = np.arange(0,5,dt)\n",
    "length = len(t)\n",
    "\n",
    "#Initial Conditions\n",
    "yF = y_o    #position matrix\n",
    "y = y_o     #current position/velocity matrix\n",
    "ts = 0       #loop counter to select last column\n",
    "\n",
    "\n",
    "while (ts < length):\n",
    "    \n",
    "    #Caluculate forward Euler.\n",
    "    yF = np.append(yF, np.matmul((np.eye(2) + dt*A),y), axis = 1)\n",
    "\n",
    "    y = yF[:, ts:(ts+1)]\n",
    "    ts = ts + 1\n",
    "    \n",
    "yF"
   ]
  },
  {
   "cell_type": "code",
   "execution_count": 221,
   "metadata": {},
   "outputs": [
    {
     "data": {
      "text/plain": [
       "50000"
      ]
     },
     "execution_count": 221,
     "metadata": {},
     "output_type": "execute_result"
    }
   ],
   "source": [
    "#yF = yF.transpose()\n",
    "position = yF[0:1,1:]\n",
    "p = position.transpose()\n",
    "len(p)"
   ]
  },
  {
   "cell_type": "code",
   "execution_count": 222,
   "metadata": {},
   "outputs": [
    {
     "data": {
      "image/png": "[encoded data removed]",
      "text/plain": [
       "<matplotlib.figure.Figure at 0x17db7e733c8>"
      ]
     },
     "metadata": {},
     "output_type": "display_data"
    }
   ],
   "source": [
    "#create figure object\n",
    "fig = plt.figure()\n",
    "\n",
    "#plot each set of y values with respect to time\n",
    "ax = fig.add_axes([0,0,1,1])\n",
    "\n",
    "ax.plot(t,p)\n",
    "\n",
    "plt.show()"
   ]
  },
  {
   "cell_type": "code",
   "execution_count": 191,
   "metadata": {},
   "outputs": [
    {
     "ename": "NameError",
     "evalue": "name 'scipy' is not defined",
     "output_type": "error",
     "traceback": [
      "\u001b[1;31m---------------------------------------------------------------------------\u001b[0m",
      "\u001b[1;31mNameError\u001b[0m                                 Traceback (most recent call last)",
      "\u001b[1;32m<ipython-input-191-2acfdd3f1a80>\u001b[0m in \u001b[0;36m<module>\u001b[1;34m()\u001b[0m\n\u001b[1;32m----> 1\u001b[1;33m \u001b[0mscipy\u001b[0m\u001b[1;33m.\u001b[0m\u001b[0mintegrate\u001b[0m\u001b[1;33m.\u001b[0m\u001b[0mode\u001b[0m\u001b[1;33m(\u001b[0m\u001b[0mf\u001b[0m\u001b[1;33m)\u001b[0m\u001b[1;33m.\u001b[0m\u001b[0mset_integrator\u001b[0m\u001b[1;33m(\u001b[0m\u001b[1;34m'dopri5'\u001b[0m\u001b[1;33m)\u001b[0m \u001b[1;31m#ODE 45?\u001b[0m\u001b[1;33m\u001b[0m\u001b[0m\n\u001b[0m",
      "\u001b[1;31mNameError\u001b[0m: name 'scipy' is not defined"
     ]
    }
   ],
   "source": [
    "scipy.integrate.ode(f).set_integrator('dopri5') #ODE 45?"
   ]
  },
  {
   "cell_type": "code",
   "execution_count": null,
   "metadata": {
    "collapsed": true
   },
   "outputs": [],
   "source": []
  }
 ],
 "metadata": {
  "kernelspec": {
   "display_name": "Python 3",
   "language": "python",
   "name": "python3"
  },
  "language_info": {
   "codemirror_mode": {
    "name": "ipython",
    "version": 3
   },
   "file_extension": ".py",
   "mimetype": "text/x-python",
   "name": "python",
   "nbconvert_exporter": "python",
   "pygments_lexer": "ipython3",
   "version": "3.6.1"
  }
 },
 "nbformat": 4,
 "nbformat_minor": 2
}
